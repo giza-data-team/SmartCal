{
 "cells": [
  {
   "cell_type": "markdown",
   "metadata": {
    "id": "RmLBOsNZQ1QV"
   },
   "source": [
    "# Install gizacal"
   ]
  },
  {
   "cell_type": "code",
   "execution_count": null,
   "metadata": {
    "id": "o0hvtqTDQvac"
   },
   "outputs": [],
   "source": [
    "# Install required package\n",
    "!pip install gizacal"
   ]
  },
  {
   "cell_type": "markdown",
   "metadata": {
    "id": "FGo7uZ6jQ_74"
   },
   "source": [
    "# Import GizaCal"
   ]
  },
  {
   "cell_type": "code",
   "execution_count": null,
   "metadata": {
    "id": "g7C_o0XGRDNW"
   },
   "outputs": [],
   "source": [
    "# Import the GizaCal library\n",
    "from gizacal import GizaCal"
   ]
  },
  {
   "cell_type": "markdown",
   "metadata": {
    "id": "i84DIdLgRG2U"
   },
   "source": [
    "# Initializa the API"
   ]
  },
  {
   "cell_type": "code",
   "execution_count": null,
   "metadata": {
    "id": "Bqw-z15LRJuG"
   },
   "outputs": [],
   "source": [
    "# Initialize the GizaCal API instance\n",
    "giza_cal = GizaCal()"
   ]
  },
  {
   "cell_type": "markdown",
   "metadata": {
    "id": "_fGSave14ogw"
   },
   "source": [
    "# Define your data"
   ]
  },
  {
   "cell_type": "code",
   "execution_count": null,
   "metadata": {},
   "outputs": [],
   "source": [
    "!pip intall numpy"
   ]
  },
  {
   "cell_type": "code",
   "execution_count": 3,
   "metadata": {},
   "outputs": [],
   "source": [
    "import numpy as np"
   ]
  },
  {
   "cell_type": "code",
   "execution_count": 4,
   "metadata": {
    "id": "mQ2NjEsroh7O"
   },
   "outputs": [],
   "source": [
    "# Define the true labels\n",
    "# Like this...\n",
    "y_true = np.array([\n",
    "    [0, 0, 1],  # Class 2\n",
    "    [0, 0, 1],  # Class 2\n",
    "    [1, 0, 0],  # Class 0\n",
    "    [0, 0, 1],  # Class 2\n",
    "    [0, 0, 1],  # Class 2\n",
    "    [0, 1, 0],  # Class 1\n",
    "    [1, 0, 0],  # Class 0\n",
    "    [0, 1, 0],  # Class 1\n",
    "    [0, 1, 0],  # Class 1\n",
    "    [0, 1, 0]   # Class 1\n",
    "], dtype=np.int32)\n",
    "# or like this...\n",
    "y_true = np.array([2, 2, 0, 2, 2, 1, 0, 1, 1, 1], dtype=np.int32)\n",
    "\n",
    "# Define the prediction probabilities (each row sums to 1)\n",
    "predictions_prob = np.array([\n",
    "    [0.1, 0.2, 0.7],\n",
    "    [0.05, 0.1, 0.85],\n",
    "    [0.8, 0.15, 0.05],\n",
    "    [0.1, 0.2, 0.7],\n",
    "    [0.05, 0.1, 0.85],\n",
    "    [0.2, 0.5, 0.3],\n",
    "    [0.7, 0.2, 0.1],\n",
    "    [0.3, 0.4, 0.3],\n",
    "    [0.25, 0.35, 0.4],\n",
    "    [0.2, 0.3, 0.5]\n",
    "], dtype=np.float32)"
   ]
  },
  {
   "cell_type": "markdown",
   "metadata": {
    "id": "FtWWej0eI3c5"
   },
   "source": [
    "# Methods"
   ]
  },
  {
   "cell_type": "markdown",
   "metadata": {
    "id": "I3QFQepiI5uv"
   },
   "source": [
    "## recommend_calibrators"
   ]
  },
  {
   "cell_type": "code",
   "execution_count": null,
   "metadata": {
    "id": "Vi8h8Ej1bSh4"
   },
   "outputs": [],
   "source": [
    "recommended_calibrators = giza_cal.recommend_calibrators(N=5, metric=\"ECE\")"
   ]
  },
  {
   "cell_type": "markdown",
   "metadata": {
    "id": "z0N7zeY3JCmy"
   },
   "source": [
    "```N```: number of best calibrators needed. Defualt: ```N=3```"
   ]
  },
  {
   "cell_type": "markdown",
   "metadata": {
    "id": "3UFp38fAIMQc"
   },
   "source": [
    "Currently, the package supports only ```ECE``` metric. Default: ```metric=ECE```"
   ]
  },
  {
   "cell_type": "markdown",
   "id": "18f56df0",
   "metadata": {},
   "source": [
    "Expected Output: ```[ISOTONICCalibrator TemperatureScalingCalibrator MetaCalibrator] # Array of calibrator instances```"
   ]
  },
  {
   "cell_type": "markdown",
   "metadata": {
    "id": "4uAZGgeNKmF6"
   },
   "source": [
    "## best_fitted_calibrator"
   ]
  },
  {
   "cell_type": "code",
   "execution_count": null,
   "metadata": {
    "id": "TrDkxch5LOhj"
   },
   "outputs": [],
   "source": [
    "best_fitted_calibrator = giza_cal.best_fitted_calibrator(y_true, predictions_prob, metric=\"ECE\")"
   ]
  },
  {
   "cell_type": "markdown",
   "metadata": {
    "id": "-713wVB7MQBb"
   },
   "source": [
    "Currently, the package supports only ```ECE``` metric. Default: ```metric=ECE```"
   ]
  },
  {
   "cell_type": "markdown",
   "metadata": {
    "id": "tc_FGKZiKMMj"
   },
   "source": [
    "## fit"
   ]
  },
  {
   "cell_type": "code",
   "execution_count": null,
   "metadata": {
    "id": "6dAep5pYbUHb"
   },
   "outputs": [],
   "source": [
    "giza_cal.fit(calibrator=CALIBRATOR(HYPERPARAMETERS), y_true, predictions_prob)"
   ]
  },
  {
   "cell_type": "markdown",
   "metadata": {
    "id": "ec9AY5TbNGvw"
   },
   "source": [
    "Default: the best ```CALIBRATOR```, default ```HYPERPARAMETERS``` of this calibrator"
   ]
  },
  {
   "cell_type": "markdown",
   "metadata": {},
   "source": [
    "Availabe option for ```CALIBRATOR```:\n",
    "\n",
    "- EMPIRICALBINNING  \n",
    "- ISOTONIC\n",
    "- BETA\n",
    "- IMAX\n",
    "- TEMPERATURESCALING\n",
    "- DIRICHLET\n",
    "- META\n",
    "- MATRIXSCALING\n",
    "- VECTORSCALING\n",
    "- PLATT\n",
    "- HISTOGRM\n",
    "- MIXANDMATCH"
   ]
  },
  {
   "cell_type": "markdown",
   "metadata": {
    "id": "SSm1mSjRKR1H"
   },
   "source": [
    "## calibrate"
   ]
  },
  {
   "cell_type": "code",
   "execution_count": null,
   "metadata": {
    "id": "afWfJTDHchuK"
   },
   "outputs": [],
   "source": [
    "calibrated = giza_cal.calibrate(predictions_prob)"
   ]
  },
  {
   "cell_type": "markdown",
   "metadata": {},
   "source": [
    "Expected Output: \n",
    "```\n",
    "[\n",
    "    [0.16008435189723969, 0.25411805510520935, 0.5857976078987122],\n",
    "    [0.10870876163244247, 0.17256441712379456, 0.7187268137931824],\n",
    "    [0.6733630895614624, 0.2205888330936432, 0.10604804754257202],\n",
    "    [0.16008435189723969, 0.25411805510520935, 0.5857976078987122],\n",
    "    [0.10870876163244247, 0.17256441712379456, 0.7187268137931824],\n",
    "    [0.2408253699541092, 0.44360414147377014, 0.31557050347328186],\n",
    "    [0.5857976078987122, 0.25411805510520935, 0.16008435189723969],\n",
    "    [0.31138932704925537, 0.37722131609916687, 0.31138932704925537],\n",
    "    [0.2762853801250458, 0.3457614779472351, 0.37795311212539673],\n",
    "    [0.2408253699541092, 0.31557050347328186, 0.44360414147377014]\n",
    "]\n",
    "# 2D Array of calibrated predections probability\n",
    "```"
   ]
  }
 ],
 "metadata": {
  "colab": {
   "provenance": []
  },
  "kernelspec": {
   "display_name": "Python 3",
   "language": "python",
   "name": "python3"
  },
  "language_info": {
   "codemirror_mode": {
    "name": "ipython",
    "version": 3
   },
   "file_extension": ".py",
   "mimetype": "text/x-python",
   "name": "python",
   "nbconvert_exporter": "python",
   "pygments_lexer": "ipython3",
   "version": "3.10.11"
  }
 },
 "nbformat": 4,
 "nbformat_minor": 0
}
